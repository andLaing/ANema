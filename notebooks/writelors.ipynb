{
 "cells": [
  {
   "cell_type": "markdown",
   "source": [
    "# Write LORS"
   ],
   "metadata": {}
  },
  {
   "cell_type": "code",
   "execution_count": 3,
   "source": [
    "using Pkg\n",
    "Pkg.activate(normpath(joinpath(@__DIR__, \"..\")))  #activate environment in ,,/src"
   ],
   "outputs": [],
   "metadata": {}
  },
  {
   "cell_type": "code",
   "execution_count": 4,
   "source": [
    "using Logging"
   ],
   "outputs": [],
   "metadata": {}
  },
  {
   "cell_type": "code",
   "execution_count": 5,
   "source": [
    "using Plots\n",
    "using DataFrames\n",
    "using HDF5\n",
    "using PhysicalConstants\n",
    "using PhysicalConstants.CODATA2018\n",
    "using Unitful\n",
    "using Glob\n",
    "using CSV\n",
    "using Printf"
   ],
   "outputs": [],
   "metadata": {}
  },
  {
   "cell_type": "code",
   "execution_count": 6,
   "source": [
    "using ATools"
   ],
   "outputs": [],
   "metadata": {}
  },
  {
   "cell_type": "code",
   "execution_count": 26,
   "source": [
    "include(\"../src/ANema.jl\") "
   ],
   "outputs": [
    {
     "output_type": "stream",
     "name": "stderr",
     "text": [
      "WARNING: replacing module ANema.\n"
     ]
    },
    {
     "output_type": "execute_result",
     "data": {
      "text/plain": [
       "Main.ANema"
      ]
     },
     "metadata": {},
     "execution_count": 26
    }
   ],
   "metadata": {}
  },
  {
   "cell_type": "code",
   "execution_count": 8,
   "source": [
    "import Unitful:\n",
    "    nm, μm, mm, cm, ns, μs, ms, ps, s"
   ],
   "outputs": [],
   "metadata": {}
  },
  {
   "cell_type": "code",
   "execution_count": 9,
   "source": [
    "function loglevel(log)\n",
    "    if log == \"Debug\"\n",
    "        logger = SimpleLogger(stdout, Logging.Debug)\n",
    "    elseif log ==\"Info\"\n",
    "        logger = SimpleLogger(stdout, Logging.Info)\n",
    "    else\n",
    "        logger = SimpleLogger(stdout, Logging.Warn)\n",
    "    end\n",
    "    old_logger = global_logger(logger)\n",
    "end"
   ],
   "outputs": [
    {
     "output_type": "execute_result",
     "data": {
      "text/plain": [
       "loglevel (generic function with 1 method)"
      ]
     },
     "metadata": {},
     "execution_count": 9
    }
   ],
   "metadata": {}
  },
  {
   "cell_type": "code",
   "execution_count": 10,
   "source": [
    "loglevel(\"Warn\")"
   ],
   "outputs": [
    {
     "output_type": "execute_result",
     "data": {
      "text/plain": [
       "Base.CoreLogging.SimpleLogger(IJulia.IJuliaStdio{Base.PipeEndpoint}(IOContext(Base.PipeEndpoint(RawFD(44) open, 0 bytes waiting))), Info, Dict{Any, Int64}())"
      ]
     },
     "metadata": {},
     "execution_count": 10
    }
   ],
   "metadata": {}
  },
  {
   "cell_type": "markdown",
   "source": [
    "## Read data file with nema events (merged data frames)"
   ],
   "metadata": {}
  },
  {
   "cell_type": "markdown",
   "source": [
    "## Read mdf files"
   ],
   "metadata": {}
  },
  {
   "cell_type": "code",
   "execution_count": 11,
   "source": [
    "function pathfinder(rootdir, conf)\n",
    "    mdf = string(conf, \"-mdf\")\n",
    "    lor = string(conf, \"-lor\")\n",
    "    phif = string(\"mdf-phistd-\",conf,\".csv\")\n",
    "    zf = string(\"mdf-zstd-\",conf,\".csv\")\n",
    "\n",
    "    mdfdir = joinpath(rootdir, mdf)\n",
    "    phipath = joinpath(mdfdir, phif)\n",
    "    zpath = joinpath(mdfdir, zf)\n",
    "    \n",
    "    lordir = joinpath(rootdir, lor)\n",
    "\n",
    "    if isdir(lordir) == false\n",
    "        mkdir(lordir)\n",
    "    end\n",
    "\n",
    "    philp = string(\"lor-phistd-\",conf)\n",
    "    zlp = string(\"lor-zstd-\",conf)\n",
    "    return (phipath= phipath, zpath = zpath, lordir=lordir, philp = philp, zlp = zlp)\n",
    "\n",
    "end"
   ],
   "outputs": [
    {
     "output_type": "execute_result",
     "data": {
      "text/plain": [
       "pathfinder (generic function with 1 method)"
      ]
     },
     "metadata": {},
     "execution_count": 11
    }
   ],
   "metadata": {}
  },
  {
   "cell_type": "code",
   "execution_count": 12,
   "source": [
    "function getlorpath(lordir=pathf.lordir, prefix=pathf.philp, posfix=\"first-true\")\n",
    "    fullpath = string(prefix,\"-\",posfix,\".h5\")\n",
    "    joinpath(lordir, fullpath)\n",
    "end"
   ],
   "outputs": [
    {
     "output_type": "execute_result",
     "data": {
      "text/plain": [
       "getlorpath (generic function with 4 methods)"
      ]
     },
     "metadata": {},
     "execution_count": 12
    }
   ],
   "metadata": {}
  },
  {
   "cell_type": "code",
   "execution_count": 13,
   "source": [
    "dir = \"../data/\"\n",
    "conf = \"n3-w-20mm-all-qc2\"\n",
    "pathf = pathfinder(dir, conf)\n",
    "println(\"pathfinder tuple =\", pathf)"
   ],
   "outputs": [
    {
     "output_type": "stream",
     "name": "stdout",
     "text": [
      "pathfinder tuple =(phipath = \"../data/n3-w-20mm-all-qc2-mdf/mdf-phistd-n3-w-20mm-all-qc2.csv\", zpath = \"../data/n3-w-20mm-all-qc2-mdf/mdf-zstd-n3-w-20mm-all-qc2.csv\", lordir = \"../data/n3-w-20mm-all-qc2-lor\", philp = \"lor-phistd-n3-w-20mm-all-qc2\", zlp = \"lor-zstd-n3-w-20mm-all-qc2\")\n"
     ]
    }
   ],
   "metadata": {}
  },
  {
   "cell_type": "code",
   "execution_count": 15,
   "source": [
    "n3p = DataFrame(CSV.File(pathf.phipath))\n",
    "n3z = DataFrame(CSV.File(pathf.zpath));\n"
   ],
   "outputs": [],
   "metadata": {}
  },
  {
   "cell_type": "code",
   "execution_count": 16,
   "source": [
    "println(names(n3p))"
   ],
   "outputs": [
    {
     "output_type": "stream",
     "name": "stdout",
     "text": [
      "[\"nsipm1\", \"nsipm2\", \"phistd1\", \"phistd2\", \"q1\", \"q2\", \"r1\", \"r2\", \"t1\", \"t2\", \"ta1\", \"ta2\", \"tr1\", \"tr2\", \"ux\", \"uy\", \"uz\", \"x1\", \"x2\", \"xb1\", \"xb2\", \"xr1\", \"xr2\", \"xs\", \"xt1\", \"xt2\", \"y1\", \"y2\", \"yb1\", \"yb2\", \"yr1\", \"yr2\", \"ys\", \"yt1\", \"yt2\", \"z1\", \"z2\", \"zb1\", \"zb2\", \"zr1\", \"zr2\", \"zs\", \"zstd1\", \"zstd2\", \"zt1\", \"zt2\", \"r1x\", \"r2x\"]\n"
     ]
    }
   ],
   "metadata": {}
  },
  {
   "cell_type": "code",
   "execution_count": 17,
   "source": [
    "println(names(n3z))"
   ],
   "outputs": [
    {
     "output_type": "stream",
     "name": "stdout",
     "text": [
      "[\"nsipm1\", \"nsipm2\", \"phistd1\", \"phistd2\", \"q1\", \"q2\", \"r1\", \"r2\", \"t1\", \"t2\", \"ta1\", \"ta2\", \"tr1\", \"tr2\", \"ux\", \"uy\", \"uz\", \"x1\", \"x2\", \"xb1\", \"xb2\", \"xr1\", \"xr2\", \"xs\", \"xt1\", \"xt2\", \"y1\", \"y2\", \"yb1\", \"yb2\", \"yr1\", \"yr2\", \"ys\", \"yt1\", \"yt2\", \"z1\", \"z2\", \"zb1\", \"zb2\", \"zr1\", \"zr2\", \"zs\", \"zstd1\", \"zstd2\", \"zt1\", \"zt2\", \"r1x\", \"r2x\"]\n"
     ]
    }
   ],
   "metadata": {}
  },
  {
   "cell_type": "code",
   "execution_count": 18,
   "source": [
    "n3mp = ANema.setunits(n3p)\n",
    "n3mz = ANema.setunits(n3z)\n",
    "\n",
    "println(\"phi data frame has length of \", nrow(n3mp))\n",
    "println(\"z data frame has length of \", nrow(n3mz))\n",
    "println(\"phi data frame names \", names(n3mp))\n",
    "println(\"z data frame names \", names(n3mz))"
   ],
   "outputs": [
    {
     "output_type": "stream",
     "name": "stdout",
     "text": [
      "phi data frame has length of 132938\n",
      "z data frame has length of 237131\n",
      "phi data frame names [\"nsipm1\", \"nsipm2\", \"phistd1\", \"phistd2\", \"zstd1\", \"zstd2\", \"q1\", \"q2\", \"r1\", \"r1x\", \"r2\", \"r2x\", \"t1\", \"t2\", \"ta1\", \"ta2\", \"tr1\", \"tr2\", \"ux\", \"uy\", \"uz\", \"x1\", \"x2\", \"xb1\", \"xb2\", \"xr1\", \"xr2\", \"xs\", \"xt1\", \"xt2\", \"y1\", \"y2\", \"yb1\", \"yb2\", \"yr1\", \"yr2\", \"ys\", \"yt1\", \"yt2\", \"z1\", \"z2\", \"zb1\", \"zb2\", \"zr1\", \"zr2\", \"zs\", \"zt1\", \"zt2\"]\n",
      "z data frame names [\"nsipm1\", \"nsipm2\", \"phistd1\", \"phistd2\", \"zstd1\", \"zstd2\", \"q1\", \"q2\", \"r1\", \"r1x\", \"r2\", \"r2x\", \"t1\", \"t2\", \"ta1\", \"ta2\", \"tr1\", \"tr2\", \"ux\", \"uy\", \"uz\", \"x1\", \"x2\", \"xb1\", \"xb2\", \"xr1\", \"xr2\", \"xs\", \"xt1\", \"xt2\", \"y1\", \"y2\", \"yb1\", \"yb2\", \"yr1\", \"yr2\", \"ys\", \"yt1\", \"yt2\", \"z1\", \"z2\", \"zb1\", \"zb2\", \"zr1\", \"zr2\", \"zs\", \"zt1\", \"zt2\"]\n"
     ]
    }
   ],
   "metadata": {}
  },
  {
   "cell_type": "markdown",
   "source": [
    "## Write LORS"
   ],
   "metadata": {}
  },
  {
   "cell_type": "code",
   "execution_count": 19,
   "source": [
    "lors_first_true = ANema.dftolor(n3mp, ANema.dtfirst, ANema.postrue);"
   ],
   "outputs": [],
   "metadata": {}
  },
  {
   "cell_type": "code",
   "execution_count": 20,
   "source": [
    "lors_first_true[1]"
   ],
   "outputs": [
    {
     "output_type": "execute_result",
     "data": {
      "text/plain": [
       "Main.ANema.MlemLor{Float32}(-60.56419f0, 356.86978f0, 27.748032f0, 430.87402f0, -326.89825f0, 166.18393f0, 323.8185f0)"
      ]
     },
     "metadata": {},
     "execution_count": 20
    }
   ],
   "metadata": {}
  },
  {
   "cell_type": "code",
   "execution_count": 21,
   "source": [
    "getlorpath(pathf.lordir,pathf.philp, \"first-true\")"
   ],
   "outputs": [
    {
     "output_type": "execute_result",
     "data": {
      "text/plain": [
       "\"../data/n3-w-20mm-all-qc2-lor/lor-phistd-n3-w-20mm-all-qc2-first-true.h5\""
      ]
     },
     "metadata": {},
     "execution_count": 21
    }
   ],
   "metadata": {}
  },
  {
   "cell_type": "code",
   "execution_count": 28,
   "source": [
    "\n",
    "ANema.write_lors_hdf5(getlorpath(pathf.lordir,pathf.philp, \"first-true\"), lors_first_true)"
   ],
   "outputs": [],
   "metadata": {}
  },
  {
   "cell_type": "code",
   "execution_count": 29,
   "source": [
    "lors_first_reco = ANema.dftolor(n3mp, ANema.dtfirst, ANema.posreco)\n",
    "ANema.write_lors_hdf5(getlorpath(pathf.lordir,pathf.philp, \"first-reco\"), lors_first_reco)"
   ],
   "outputs": [],
   "metadata": {}
  },
  {
   "cell_type": "code",
   "execution_count": 30,
   "source": [
    "lors_minimum_reco = ANema.dftolor(n3mp, ANema.dtminimum, ANema.posreco)\n",
    "ANema.write_lors_hdf5(getlorpath(pathf.lordir,pathf.philp, \"minimum-reco\"), lors_minimum_reco)"
   ],
   "outputs": [],
   "metadata": {}
  },
  {
   "cell_type": "code",
   "execution_count": 31,
   "source": [
    "lors_minimum_recall = ANema.dftolor(n3mp, ANema.dtminimum, ANema.posrecall)\n",
    "ANema.write_lors_hdf5(getlorpath(pathf.lordir,pathf.philp, \"minimum-recall\"), lors_minimum_recall)"
   ],
   "outputs": [],
   "metadata": {}
  },
  {
   "cell_type": "code",
   "execution_count": 32,
   "source": [
    "lors_average_recall = ANema.dftolor(n3mp, ANema.dtaverage, ANema.posrecall)\n",
    "ANema.write_lors_hdf5(getlorpath(pathf.lordir,pathf.philp, \"average-recall\"), lors_average_recall)"
   ],
   "outputs": [],
   "metadata": {}
  },
  {
   "cell_type": "code",
   "execution_count": 33,
   "source": [
    "lors_first_true = ANema.dftolor(n3mz, ANema.dtfirst, ANema.postrue)\n",
    "ANema.write_lors_hdf5(getlorpath(pathf.lordir,pathf.zlp, \"first-true\"), lors_first_true)\n",
    "lors_first_reco = ANema.dftolor(n3mz, ANema.dtfirst, ANema.posreco)\n",
    "ANema.write_lors_hdf5(getlorpath(pathf.lordir,pathf.zlp, \"first-reco\"), lors_first_reco)\n",
    "lors_minimum_reco = ANema.dftolor(n3mz, ANema.dtminimum, ANema.posreco)\n",
    "ANema.write_lors_hdf5(getlorpath(pathf.lordir,pathf.zlp, \"minimum-reco\"), lors_minimum_reco)\n",
    "lors_minimum_recall = ANema.dftolor(n3mz, ANema.dtminimum, ANema.posrecall)\n",
    "ANema.write_lors_hdf5(getlorpath(pathf.lordir,pathf.zlp, \"minimum-recall\"), lors_minimum_recall)\n",
    "lors_average_recall = ANema.dftolor(n3mz, ANema.dtaverage, ANema.posrecall)\n",
    "ANema.write_lors_hdf5(getlorpath(pathf.lordir,pathf.zlp, \"average-recall\"), lors_average_recall)"
   ],
   "outputs": [],
   "metadata": {}
  }
 ],
 "metadata": {
  "kernelspec": {
   "display_name": "Julia 1.6.1",
   "language": "julia",
   "name": "julia-1.6"
  },
  "language_info": {
   "file_extension": ".jl",
   "mimetype": "application/julia",
   "name": "julia",
   "version": "1.6.1"
  }
 },
 "nbformat": 4,
 "nbformat_minor": 5
}