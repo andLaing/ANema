{
 "cells": [
  {
   "cell_type": "markdown",
   "source": [
    "# RusT Petalo"
   ],
   "metadata": {}
  },
  {
   "cell_type": "code",
   "execution_count": 1,
   "source": [
    "using Pkg\n",
    "Pkg.activate(normpath(joinpath(@__DIR__, \"..\")))  #activate environment in ,,/src"
   ],
   "outputs": [],
   "metadata": {}
  },
  {
   "cell_type": "code",
   "execution_count": 2,
   "source": [
    "using Logging"
   ],
   "outputs": [],
   "metadata": {}
  },
  {
   "cell_type": "code",
   "execution_count": 3,
   "source": [
    "using Plots\n",
    "using DataFrames\n",
    "using HDF5\n",
    "using PhysicalConstants\n",
    "using PhysicalConstants.CODATA2018\n",
    "using Unitful\n",
    "using Glob\n",
    "using CSV\n",
    "using Printf"
   ],
   "outputs": [],
   "metadata": {}
  },
  {
   "cell_type": "code",
   "execution_count": 4,
   "source": [
    "using ATools"
   ],
   "outputs": [],
   "metadata": {}
  },
  {
   "cell_type": "code",
   "execution_count": 66,
   "source": [
    "include(\"../src/ANema.jl\") "
   ],
   "outputs": [
    {
     "output_type": "stream",
     "name": "stderr",
     "text": [
      "WARNING: replacing module ANema.\n"
     ]
    },
    {
     "output_type": "execute_result",
     "data": {
      "text/plain": [
       "Main.ANema"
      ]
     },
     "metadata": {},
     "execution_count": 66
    }
   ],
   "metadata": {}
  },
  {
   "cell_type": "code",
   "execution_count": 6,
   "source": [
    "import Unitful:\n",
    "    nm, μm, mm, cm, ns, μs, ms, ps, s"
   ],
   "outputs": [],
   "metadata": {}
  },
  {
   "cell_type": "code",
   "execution_count": 3,
   "source": [
    "function loglevel(log)\n",
    "    if log == \"Debug\"\n",
    "        logger = SimpleLogger(stdout, Logging.Debug)\n",
    "    elseif log ==\"Info\"\n",
    "        logger = SimpleLogger(stdout, Logging.Info)\n",
    "    else\n",
    "        logger = SimpleLogger(stdout, Logging.Warn)\n",
    "    end\n",
    "    old_logger = global_logger(logger)\n",
    "end"
   ],
   "outputs": [
    {
     "output_type": "execute_result",
     "data": {
      "text/plain": [
       "loglevel (generic function with 1 method)"
      ]
     },
     "metadata": {},
     "execution_count": 3
    }
   ],
   "metadata": {}
  },
  {
   "cell_type": "code",
   "execution_count": 4,
   "source": [
    "loglevel(\"Warn\")"
   ],
   "outputs": [
    {
     "output_type": "execute_result",
     "data": {
      "text/plain": [
       "Base.CoreLogging.SimpleLogger(IJulia.IJuliaStdio{Base.PipeEndpoint}(IOContext(Base.PipeEndpoint(RawFD(48) open, 0 bytes waiting))), Info, Dict{Any, Int64}())"
      ]
     },
     "metadata": {},
     "execution_count": 4
    }
   ],
   "metadata": {}
  },
  {
   "cell_type": "markdown",
   "source": [
    "## Run cargo"
   ],
   "metadata": {}
  },
  {
   "cell_type": "markdown",
   "source": [
    "## Read mdf files"
   ],
   "metadata": {}
  },
  {
   "cell_type": "code",
   "execution_count": null,
   "source": [
    "#conf=\"n3-w-20mm-all\""
   ],
   "outputs": [],
   "metadata": {}
  },
  {
   "cell_type": "code",
   "execution_count": 25,
   "source": [
    "function rcmd(conf; \n",
    "              excm      = false, \n",
    "              slices    = (101,501,251), \n",
    "              bins      = (101,501,251), \n",
    "              estimator = \"zstd\", \n",
    "              reco      = \"true-first\", \n",
    "              rdir      = \"/Users/jj/JuliaProjects/ANema/data/\",\n",
    "              head      = \"cargo run --features serial --release --bin mlem --\",\n",
    "              dst       = \"--dataset true_info/lors\")\n",
    "    \n",
    "    ldir = string(conf,\"-lor\")\n",
    "    idir = joinpath(rdir, ldir)\n",
    "    pfx  = string(\"-\",estimator,\"-\",conf,\"-\",reco)\n",
    "    on   = string(\"mlem\",pfx)\n",
    "    ofn = joinpath(rdir,on,\"img\") \n",
    "    slc  = \"-s $(slices[1]),$(slices[2]),$(slices[3])\"\n",
    "    bns  = \"-n $(bins[1]),$(bins[2]),$(bins[3])\"\n",
    "    fn   = string(\"lor\", pfx,\".h5\")\n",
    "    #idir = \"/Users/jj/JuliaProjects/ANema/data/n3-w-20mm-all-lor/\"\n",
    "    #fn   = \"lor-zstd-n3-w-20mm-all-average-recall.h5\"\n",
    "    #ofn  =  \"/Users/jj/JuliaProjects/ANema/data/mlem-zstd-n3-w-20mm-all-average-recall/img\"\n",
    "    path = joinpath(idir, fn)\n",
    "    in   = \"-f $path\"\n",
    "    out  = \"--out-files $ofn\"\n",
    "    cmd  = \"$head $slc $bns $dst $in $out\"\n",
    "    if excm\n",
    "        println(\"executing: $cmd\")\n",
    "        run(`$cmd`)\n",
    "    else\n",
    "        return cmd\n",
    "    end \n",
    "end"
   ],
   "outputs": [
    {
     "output_type": "execute_result",
     "data": {
      "text/plain": [
       "rcmd (generic function with 4 methods)"
      ]
     },
     "metadata": {},
     "execution_count": 25
    }
   ],
   "metadata": {}
  },
  {
   "cell_type": "code",
   "execution_count": 29,
   "source": [
    "rcmd(\"n3-w-40mm-all-qc3\", excm = false, estimator = \"zstd\", reco = \"average-recall\")"
   ],
   "outputs": [
    {
     "output_type": "execute_result",
     "data": {
      "text/plain": [
       "\"cargo run --features serial --release --bin mlem -- -s 101,501,251 -n 101,501,251 --dataset true_info/lors -f /Users/jj/JuliaProjects/ANema/data/n3-w-40mm-all-qc3-lor/lor-zstd-n3-w-40mm-all-qc3-average-recall.h5 --out-files /Users/jj/JuliaProjects/ANema/data/mlem-zstd-n3-w-40mm-all-qc3-average-recall/img\""
      ]
     },
     "metadata": {},
     "execution_count": 29
    }
   ],
   "metadata": {}
  },
  {
   "cell_type": "code",
   "execution_count": 24,
   "source": [
    "rcmd(\"n3-w-20mm-all\",  estimator = \"zstd\", reco = \"true-first\")"
   ],
   "outputs": [
    {
     "output_type": "execute_result",
     "data": {
      "text/plain": [
       "\"cargo run --features serial --release --bin mlem -- -s (101, 501, 251) -n (101, 501, 251) --dataset true_info/lors -f /Users/jj/JuliaProjects/ANema/data/n3-w-20mm-all-lor/lor-zstd-n3-w-20mm-all-true-first.h5 --out-files /Users/jj/JuliaProjects/ANema/data/mlem-zstd-n3-w-20mm-all-true-first/img\""
      ]
     },
     "metadata": {},
     "execution_count": 24
    }
   ],
   "metadata": {}
  },
  {
   "cell_type": "code",
   "execution_count": 57,
   "source": [
    "n3p = DataFrame(CSV.File(pathf.phipath))\n",
    "n3z = DataFrame(CSV.File(pathf.zpath));\n"
   ],
   "outputs": [],
   "metadata": {}
  },
  {
   "cell_type": "code",
   "execution_count": 58,
   "source": [
    "println(names(n3p))"
   ],
   "outputs": [
    {
     "output_type": "stream",
     "name": "stdout",
     "text": [
      "[\"nsipm1\", \"nsipm2\", \"phistd1\", \"phistd2\", \"q1\", \"q2\", \"r1\", \"r2\", \"t1\", \"t2\", \"ta1\", \"ta2\", \"tr1\", \"tr2\", \"ux\", \"uy\", \"uz\", \"x1\", \"x2\", \"xb1\", \"xb2\", \"xr1\", \"xr2\", \"xs\", \"xt1\", \"xt2\", \"y1\", \"y2\", \"yb1\", \"yb2\", \"yr1\", \"yr2\", \"ys\", \"yt1\", \"yt2\", \"z1\", \"z2\", \"zb1\", \"zb2\", \"zr1\", \"zr2\", \"zs\", \"zstd1\", \"zstd2\", \"zt1\", \"zt2\", \"r1x\", \"r2x\"]\n"
     ]
    }
   ],
   "metadata": {}
  },
  {
   "cell_type": "code",
   "execution_count": 59,
   "source": [
    "println(names(n3z))"
   ],
   "outputs": [
    {
     "output_type": "stream",
     "name": "stdout",
     "text": [
      "[\"nsipm1\", \"nsipm2\", \"phistd1\", \"phistd2\", \"q1\", \"q2\", \"r1\", \"r2\", \"t1\", \"t2\", \"ta1\", \"ta2\", \"tr1\", \"tr2\", \"ux\", \"uy\", \"uz\", \"x1\", \"x2\", \"xb1\", \"xb2\", \"xr1\", \"xr2\", \"xs\", \"xt1\", \"xt2\", \"y1\", \"y2\", \"yb1\", \"yb2\", \"yr1\", \"yr2\", \"ys\", \"yt1\", \"yt2\", \"z1\", \"z2\", \"zb1\", \"zb2\", \"zr1\", \"zr2\", \"zs\", \"zstd1\", \"zstd2\", \"zt1\", \"zt2\", \"r1x\", \"r2x\"]\n"
     ]
    }
   ],
   "metadata": {}
  },
  {
   "cell_type": "code",
   "execution_count": 60,
   "source": [
    "n3mp = ANema.setunits(n3p)\n",
    "n3mz = ANema.setunits(n3z)\n",
    "\n",
    "println(\"phi data frame has length of \", nrow(n3mp))\n",
    "println(\"z data frame has length of \", nrow(n3mz))\n",
    "println(\"phi data frame names \", names(n3mp))\n",
    "println(\"z data frame names \", names(n3mz))"
   ],
   "outputs": [
    {
     "output_type": "stream",
     "name": "stdout",
     "text": [
      "phi data frame has length of 216227\n",
      "z data frame has length of 266962\n",
      "phi data frame names [\"nsipm1\", \"nsipm2\", \"phistd1\", \"phistd2\", \"zstd1\", \"zstd2\", \"q1\", \"q2\", \"r1\", \"r1x\", \"r2\", \"r2x\", \"t1\", \"t2\", \"ta1\", \"ta2\", \"tr1\", \"tr2\", \"ux\", \"uy\", \"uz\", \"x1\", \"x2\", \"xb1\", \"xb2\", \"xr1\", \"xr2\", \"xs\", \"xt1\", \"xt2\", \"y1\", \"y2\", \"yb1\", \"yb2\", \"yr1\", \"yr2\", \"ys\", \"yt1\", \"yt2\", \"z1\", \"z2\", \"zb1\", \"zb2\", \"zr1\", \"zr2\", \"zs\", \"zt1\", \"zt2\"]\n",
      "z data frame names [\"nsipm1\", \"nsipm2\", \"phistd1\", \"phistd2\", \"zstd1\", \"zstd2\", \"q1\", \"q2\", \"r1\", \"r1x\", \"r2\", \"r2x\", \"t1\", \"t2\", \"ta1\", \"ta2\", \"tr1\", \"tr2\", \"ux\", \"uy\", \"uz\", \"x1\", \"x2\", \"xb1\", \"xb2\", \"xr1\", \"xr2\", \"xs\", \"xt1\", \"xt2\", \"y1\", \"y2\", \"yb1\", \"yb2\", \"yr1\", \"yr2\", \"ys\", \"yt1\", \"yt2\", \"z1\", \"z2\", \"zb1\", \"zb2\", \"zr1\", \"zr2\", \"zs\", \"zt1\", \"zt2\"]\n"
     ]
    }
   ],
   "metadata": {}
  },
  {
   "cell_type": "markdown",
   "source": [
    "## Write LORS"
   ],
   "metadata": {}
  },
  {
   "cell_type": "code",
   "execution_count": 35,
   "source": [
    "lors_first_true = ANema.dftolor(n3mp, ANema.dtfirst, ANema.postrue);"
   ],
   "outputs": [],
   "metadata": {}
  },
  {
   "cell_type": "code",
   "execution_count": 51,
   "source": [
    "getlorpath(pathf.lordir,pathf.philp, \"first-true\")"
   ],
   "outputs": [
    {
     "output_type": "execute_result",
     "data": {
      "text/plain": [
       "\"../data/n3-w-20mm-all-lor/lor-phistd-n3-w-20mm-all-first-true.h5\""
      ]
     },
     "metadata": {},
     "execution_count": 51
    }
   ],
   "metadata": {}
  },
  {
   "cell_type": "code",
   "execution_count": 52,
   "source": [
    "\n",
    "ANema.write_lors_hdf5(getlorpath(pathf.lordir,pathf.philp, \"first-true\"), lors_first_true)"
   ],
   "outputs": [],
   "metadata": {}
  },
  {
   "cell_type": "code",
   "execution_count": 53,
   "source": [
    "lors_first_reco = ANema.dftolor(n3mp, ANema.dtfirst, ANema.posreco)\n",
    "ANema.write_lors_hdf5(getlorpath(pathf.lordir,pathf.philp, \"first-reco\"), lors_first_reco)"
   ],
   "outputs": [],
   "metadata": {}
  },
  {
   "cell_type": "code",
   "execution_count": 54,
   "source": [
    "lors_minimum_reco = ANema.dftolor(n3mp, ANema.dtminimum, ANema.posreco)\n",
    "ANema.write_lors_hdf5(getlorpath(pathf.lordir,pathf.philp, \"minimum-reco\"), lors_minimum_reco)"
   ],
   "outputs": [],
   "metadata": {}
  },
  {
   "cell_type": "code",
   "execution_count": 62,
   "source": [
    "n3mp.r2x[1:2]"
   ],
   "outputs": [
    {
     "output_type": "execute_result",
     "data": {
      "text/plain": [
       "2-element Vector{Quantity{Float64, 𝐋, Unitful.FreeUnits{(mm,), 𝐋, nothing}}}:\n",
       "  366.1171080961141 mm\n",
       " 367.33644496451706 mm"
      ]
     },
     "metadata": {},
     "execution_count": 62
    }
   ],
   "metadata": {}
  },
  {
   "cell_type": "code",
   "execution_count": 67,
   "source": [
    "lors_minimum_recall = ANema.dftolor(n3mp, ANema.dtminimum, ANema.posrecall)\n",
    "ANema.write_lors_hdf5(getlorpath(pathf.lordir,pathf.philp, \"minimum-recall\"), lors_minimum_recall)"
   ],
   "outputs": [],
   "metadata": {}
  },
  {
   "cell_type": "code",
   "execution_count": 68,
   "source": [
    "lors_average_recall = ANema.dftolor(n3mp, ANema.dtaverage, ANema.posrecall)\n",
    "ANema.write_lors_hdf5(getlorpath(pathf.lordir,pathf.philp, \"average-recall\"), lors_average_recall)"
   ],
   "outputs": [],
   "metadata": {}
  },
  {
   "cell_type": "code",
   "execution_count": 70,
   "source": [
    "lors_first_true = ANema.dftolor(n3mz, ANema.dtfirst, ANema.postrue)\n",
    "ANema.write_lors_hdf5(getlorpath(pathf.lordir,pathf.zlp, \"first-true\"), lors_first_true)\n",
    "lors_first_reco = ANema.dftolor(n3mz, ANema.dtfirst, ANema.posreco)\n",
    "ANema.write_lors_hdf5(getlorpath(pathf.lordir,pathf.zlp, \"first-reco\"), lors_first_reco)\n",
    "lors_minimum_reco = ANema.dftolor(n3mz, ANema.dtminimum, ANema.posreco)\n",
    "ANema.write_lors_hdf5(getlorpath(pathf.lordir,pathf.zlp, \"minimum-reco\"), lors_minimum_reco)\n",
    "lors_minimum_recall = ANema.dftolor(n3mz, ANema.dtminimum, ANema.posrecall)\n",
    "ANema.write_lors_hdf5(getlorpath(pathf.lordir,pathf.zlp, \"minimum-recall\"), lors_minimum_recall)\n",
    "lors_average_recall = ANema.dftolor(n3mz, ANema.dtaverage, ANema.posrecall)\n",
    "ANema.write_lors_hdf5(getlorpath(pathf.lordir,pathf.zlp, \"average-recall\"), lors_average_recall)"
   ],
   "outputs": [],
   "metadata": {}
  }
 ],
 "metadata": {
  "kernelspec": {
   "display_name": "Julia 1.6.1",
   "language": "julia",
   "name": "julia-1.6"
  },
  "language_info": {
   "file_extension": ".jl",
   "mimetype": "application/julia",
   "name": "julia",
   "version": "1.6.1"
  }
 },
 "nbformat": 4,
 "nbformat_minor": 5
}