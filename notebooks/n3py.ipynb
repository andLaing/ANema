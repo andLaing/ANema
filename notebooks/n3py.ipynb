{
 "cells": [
  {
   "cell_type": "markdown",
   "source": [
    "# RusT Petalo"
   ],
   "metadata": {}
  },
  {
   "cell_type": "code",
   "execution_count": 1,
   "source": [
    "import struct\n",
    "from collections import namedtuple\n",
    "import os.path\n",
    "import subprocess"
   ],
   "outputs": [],
   "metadata": {}
  },
  {
   "cell_type": "code",
   "execution_count": 5,
   "source": [
    "import numpy as np\n",
    "from operator import mul\n",
    "from functools import reduce\n",
    "\n",
    "import matplotlib.pyplot as plt"
   ],
   "outputs": [],
   "metadata": {}
  },
  {
   "cell_type": "code",
   "execution_count": 6,
   "source": [
    "from sys import argv\n",
    "import argparse\n",
    "from itertools import starmap"
   ],
   "outputs": [],
   "metadata": {}
  },
  {
   "cell_type": "code",
   "execution_count": 8,
   "source": [
    "from sklearn.cluster import KMeans"
   ],
   "outputs": [],
   "metadata": {}
  },
  {
   "cell_type": "markdown",
   "source": [
    "# utils"
   ],
   "metadata": {}
  },
  {
   "cell_type": "code",
   "execution_count": 9,
   "source": [
    "def wrap_1d_into_3d(data, shape, row_major=False):\n",
    "    assert len(data) == reduce(mul, shape)\n",
    "    image = np.zeros(shape)\n",
    "    nx, ny, nz = shape\n",
    "    for index, x in enumerate(data):\n",
    "        i = int(index % nx)\n",
    "        j = int(index / nx) % ny\n",
    "        k = int(index / (nx * ny))\n",
    "        if row_major: image[k,j,i] = x\n",
    "        else        : image[i,j,k] = x\n",
    "    return image"
   ],
   "outputs": [],
   "metadata": {}
  },
  {
   "cell_type": "code",
   "execution_count": 10,
   "source": [
    "def read_raw(filename):\n",
    "    buffer = open(filename, 'rb').read()\n",
    "    metadata_length = 18\n",
    "    metadata = buffer[: metadata_length  ]\n",
    "    data     = buffer[  metadata_length :]\n",
    "    pixels = struct.unpack_from('>HHH', metadata[:6])\n",
    "    mm     = struct.unpack_from('>fff', metadata[6:])\n",
    "    data   = struct.unpack_from('>'+'f' * (len(data) // 4), data)\n",
    "    return (pixels, mm), data"
   ],
   "outputs": [],
   "metadata": {}
  },
  {
   "cell_type": "code",
   "execution_count": 11,
   "source": [
    "def show_image(image, *, axis, slice_, extent, shape, ax=plt):\n",
    "    xe, ye, ze = (e/2 for e in extent)\n",
    "\n",
    "    if axis == 'x': e, n = xe, shape[0]\n",
    "    if axis == 'y': e, n = ye, shape[1]\n",
    "    if axis == 'z': e, n = ze, shape[2]\n",
    "\n",
    "    s = int(n * (slice_ / (2*e) - 0.5))\n",
    "\n",
    "    if axis == 'x': ax.imshow(image[s, :, :]   , extent = [-ze,ze, -ye,ye], origin = 'lower')\n",
    "    if axis == 'y': ax.imshow(image[:, s, :]   , extent = [-ze,ze, -xe,xe], origin = 'lower')\n",
    "    if axis == 'z': ax.imshow(image[:, :, s].T , extent = [-xe,xe, -ye,ye], origin = 'lower')\n"
   ],
   "outputs": [],
   "metadata": {}
  },
  {
   "cell_type": "code",
   "execution_count": 12,
   "source": [
    "def show_image_from_file(filename, *, axis, slice_, ax=plt):\n",
    "    (shape, full_length), data = read_raw(filename)\n",
    "    image = wrap_1d_into_3d(data, shape)\n",
    "    show_image(image, axis=axis, slice_=slice_, extent=full_length, shape=shape, ax=ax)\n"
   ],
   "outputs": [],
   "metadata": {}
  },
  {
   "cell_type": "code",
   "execution_count": 13,
   "source": [
    "def load_image_from_file(filename):\n",
    "    (shape, full_extent), data = read_raw(filename)\n",
    "    image = wrap_1d_into_3d(data, shape)\n",
    "    return image, full_extent\n"
   ],
   "outputs": [],
   "metadata": {}
  },
  {
   "cell_type": "code",
   "execution_count": 14,
   "source": [
    "def display_reconstructed_images(nr, nc, args):\n",
    "    generate_data_if_missing(args)\n",
    "    fig, ax = plt.subplots(nr,nc, figsize=(nc*5, nr*5))\n",
    "    fig.suptitle(\"C\" if args.c else \"Rust\")\n",
    "\n",
    "    for (r,c) in ((r,c) for r in range(nr) for c in range(nc)):\n",
    "        filename = args_to_filename(args, c+nc*r)\n",
    "        the_ax = ax[c] if min(nr,nc) == 1 else ax[r,c]\n",
    "        show_image_from_file(filename, axis=args.axis, slice_=args.slice_, ax=the_ax)\n"
   ],
   "outputs": [],
   "metadata": {}
  },
  {
   "cell_type": "code",
   "execution_count": 18,
   "source": [
    "def voxel_centres(image, full_extent):\n",
    "    def coordinates_of_voxel_centres(n, dx):\n",
    "        last_centre = (n-1) / n * dx / 2\n",
    "        return np.linspace(-last_centre, last_centre, num=n)\n",
    "    x,y,z = starmap(coordinates_of_voxel_centres, zip(image.shape, full_extent))\n",
    "    coords = np.swapaxes(np.array(np.meshgrid(z,y,x)), 0,3)\n",
    "    return np.flip(coords, axis=3)\n"
   ],
   "outputs": [],
   "metadata": {}
  },
  {
   "cell_type": "code",
   "execution_count": 24,
   "source": [
    "def zone(x):\n",
    "    if x > 150: return 2\n",
    "    if x >  50: return 1\n",
    "    return 0\n",
    "\n",
    "def by_zone(xyz): return tuple(map(zone, xyz))\n",
    "\n",
    "\n",
    "def slice_to_position(slice_number, n_pixels, full_extent):\n",
    "    pixel_width = full_extent / n_pixels\n",
    "    return pixel_width * (slice_number + 0.5 - n_pixels / 2)\n",
    "\n",
    "def position_to_slice(position, n_pixels, full_extent):\n",
    "    return round((n_pixels * position) / full_extent + 0.5 * (n_pixels - 1))\n"
   ],
   "outputs": [],
   "metadata": {}
  },
  {
   "cell_type": "code",
   "execution_count": 23,
   "source": [
    "def analyse_one_point(x,y,z):\n",
    "\n",
    "    ylo = position_to_slice(y-delta, ny, ey)\n",
    "    yhi = position_to_slice(y+delta, ny, ey) + 1\n",
    "\n",
    "    zlo = position_to_slice(z-delta, nz, ez)\n",
    "    zhi = position_to_slice(z+delta, nz, ez) + 1\n",
    "\n",
    "    around_peak = image[:, ylo:yhi, zlo:zhi]\n",
    "    xpk, ypk, zpk = np.unravel_index(np.argmax(around_peak), around_peak.shape)\n",
    "    peak_value = around_peak[xpk, ypk, zpk]\n",
    "\n",
    "    fig, axs = plt.subplots(1,3, tight_layout=True)\n",
    "\n",
    "    along_x = around_peak[ : , ypk, zpk]\n",
    "    along_y = around_peak[xpk,  : , zpk]\n",
    "    along_z = around_peak[xpk, ypk,  : ]\n",
    "\n",
    "    print(f'{x:6.1f} {y:6.1f} {z:6.1f}     ', end='')\n",
    "\n",
    "    widths = []\n",
    "    for i, (a, d) in enumerate(zip((along_x, along_y, along_z), (dx, dy, dz))):\n",
    "        hm = peak_value /  2\n",
    "        tm = peak_value / 10\n",
    "        lh, rh = full_width_at(hm, a, d)\n",
    "        lt, rt = full_width_at(tm, a, d)\n",
    "        ax = axs[i]\n",
    "        ax.plot(a, '-o')\n",
    "        ax.plot((lh, rh), (hm, hm))\n",
    "        ax.plot((lt, rt), (tm, tm))\n",
    "        fig.suptitle(f'{x:6.1f} {y:6.1f} {z:6.1f}')\n",
    "        ax.set_title(f'FWHM = {rh-lh:4.1f} mm   FWTM = {rt-lt:4.1f} mm')\n",
    "        widths.append((rh-lh, rt-lt))\n",
    "\n",
    "    (hx,tx), (hy,ty), (hz,tz) = widths\n",
    "    print(f'   {hx:4.1f} {hy:4.1f} {hz:4.1f}     {tx:4.1f} {ty:4.1f} {tz:4.1f}')\n",
    "\n",
    "\n",
    "def n_pixels_to(height, array):\n",
    "    for i, (this, prev) in enumerate(zip(array[1:], array), 1):\n",
    "        if this > height:\n",
    "            return i - 0.5 + (height - prev) / (this - prev)\n",
    "\n",
    "def full_width_at(height, array, pixel_size):\n",
    "    l = n_pixels_to(height, array)\n",
    "    r = n_pixels_to(height, array[::-1])\n",
    "    return (l - 0.5) * pixel_size, (len(array) - r - 0.5) * pixel_size\n"
   ],
   "outputs": [],
   "metadata": {}
  },
  {
   "cell_type": "markdown",
   "source": [
    "## Code"
   ],
   "metadata": {}
  },
  {
   "cell_type": "code",
   "execution_count": 15,
   "source": [
    "infile = \"/Users/jj/JuliaProjects/ANema/data/mlem-zstd-n3-w-20mm-all-average-recall/img_04.raw\""
   ],
   "outputs": [],
   "metadata": {}
  },
  {
   "cell_type": "code",
   "execution_count": 16,
   "source": [
    "image, full_extent = load_image_from_file(infile)"
   ],
   "outputs": [],
   "metadata": {}
  },
  {
   "cell_type": "code",
   "execution_count": 19,
   "source": [
    "positions_of_active_voxels = voxel_centres(image, full_extent)[image > 1]"
   ],
   "outputs": [],
   "metadata": {}
  },
  {
   "cell_type": "code",
   "execution_count": 20,
   "source": [
    "positions_of_active_voxels"
   ],
   "outputs": [
    {
     "output_type": "execute_result",
     "data": {
      "text/plain": [
       "array([[ -50., -185.,  125.],\n",
       "       [ -38., -250.,  125.],\n",
       "       [ -36., -249.,  125.],\n",
       "       ...,\n",
       "       [  20.,   94.,    4.],\n",
       "       [  21.,  100.,    4.],\n",
       "       [  50., -137.,  125.]])"
      ]
     },
     "metadata": {},
     "execution_count": 20
    }
   ],
   "metadata": {}
  },
  {
   "cell_type": "code",
   "execution_count": 21,
   "source": [
    "kmeans = KMeans(n_clusters=6, random_state=0).fit(positions_of_active_voxels)"
   ],
   "outputs": [],
   "metadata": {}
  },
  {
   "cell_type": "code",
   "execution_count": 22,
   "source": [
    "kmeans"
   ],
   "outputs": [
    {
     "output_type": "execute_result",
     "data": {
      "text/plain": [
       "KMeans(n_clusters=6, random_state=0)"
      ]
     },
     "metadata": {},
     "execution_count": 22
    }
   ],
   "metadata": {}
  },
  {
   "cell_type": "code",
   "execution_count": 25,
   "source": [
    "cluster_centres = sorted(kmeans.cluster_centers_, key=by_zone)\n"
   ],
   "outputs": [],
   "metadata": {}
  },
  {
   "cell_type": "code",
   "execution_count": 26,
   "source": [
    "cluster_centres"
   ],
   "outputs": [
    {
     "output_type": "execute_result",
     "data": {
      "text/plain": [
       "[array([1.02841042e-01, 9.79196995e+00, 7.04390702e-04]),\n",
       " array([ -18.5 , -205.25,  125.  ]),\n",
       " array([ 4.54164683, 97.72727273, -0.18514993]),\n",
       " array([-4.41996047, 99.55237154,  0.14772727]),\n",
       " array([4.74796011e+00, 1.98022212e+02, 1.26926564e-02]),\n",
       " array([-5.05733945e+00,  1.97200917e+02,  8.30275229e-02])]"
      ]
     },
     "metadata": {},
     "execution_count": 26
    }
   ],
   "metadata": {}
  },
  {
   "cell_type": "code",
   "execution_count": 27,
   "source": [
    "delta = 25\n",
    "ex, ey, ez = full_extent\n",
    "nx, ny, nz = image.shape\n",
    "dx, dy, dz = (e/n for e,n in zip(full_extent, image.shape))\n"
   ],
   "outputs": [],
   "metadata": {}
  },
  {
   "cell_type": "code",
   "execution_count": 29,
   "source": [
    "print(ex, ey, ex)\n",
    "print(nx, ny, nz)\n",
    "print(dx,dy,dz)"
   ],
   "outputs": [
    {
     "output_type": "stream",
     "name": "stdout",
     "text": [
      "101.0 501.0 101.0\n",
      "101 501 251\n",
      "1.0 1.0 1.0\n"
     ]
    }
   ],
   "metadata": {}
  }
 ],
 "metadata": {
  "kernelspec": {
   "name": "python3",
   "display_name": "Python 3.7.3 64-bit"
  },
  "language_info": {
   "name": "python",
   "version": "3.7.3",
   "mimetype": "text/x-python",
   "codemirror_mode": {
    "name": "ipython",
    "version": 3
   },
   "pygments_lexer": "ipython3",
   "nbconvert_exporter": "python",
   "file_extension": ".py"
  },
  "interpreter": {
   "hash": "31f2aee4e71d21fbe5cf8b01ff0e069b9275f58929596ceb00d14d90e3e16cd6"
  }
 },
 "nbformat": 4,
 "nbformat_minor": 5
}